{
 "cells": [
  {
   "cell_type": "code",
   "execution_count": 3,
   "metadata": {
    "collapsed": true,
    "pycharm": {
     "name": "#%%\n"
    }
   },
   "outputs": [],
   "source": [
    "import sys\n",
    "import os\n",
    "import pandas\n",
    "import csv\n",
    "from sklearn import svm, preprocessing, neighbors, ensemble, neural_network, naive_bayes\n",
    "import matplotlib.pyplot as plt"
   ]
  },
  {
   "cell_type": "code",
   "execution_count": 4,
   "outputs": [],
   "source": [
    "train = pandas.read_csv('train_test_datasets/features_train_70000.csv') #import our training data from the csv file (56,000 image)\n",
    "test = pandas.read_csv('train_test_datasets/features_test_70000.csv') #import our test data from the csv file (14,000 image)"
   ],
   "metadata": {
    "collapsed": false,
    "pycharm": {
     "name": "#%%\n"
    }
   }
  },
  {
   "cell_type": "code",
   "execution_count": 6,
   "outputs": [
    {
     "data": {
      "text/plain": "   Kurtosis   Skewness       Std   Range   Median   Geometric_Mean   Mobility  \\\n0   15.0238    2.91000  274.7740    1789    228.0         160.4439   0.147740   \n1    2.8010    0.92232  235.7319     917    179.0         145.3054   0.120090   \n2    3.9885    0.88732  174.5089     817    260.0         182.6219   0.200340   \n3    5.4531    1.83640  343.9752    1336     69.5         120.5608   0.083738   \n4   15.8010    3.38050  443.4495    2785    118.0         113.9388   0.231590   \n\n    Complexity   Tag  \n0       0.8579     0  \n1       1.2987     0  \n2       1.5965     0  \n3       1.2973     0  \n4       1.2115     0  ",
      "text/html": "<div>\n<style scoped>\n    .dataframe tbody tr th:only-of-type {\n        vertical-align: middle;\n    }\n\n    .dataframe tbody tr th {\n        vertical-align: top;\n    }\n\n    .dataframe thead th {\n        text-align: right;\n    }\n</style>\n<table border=\"1\" class=\"dataframe\">\n  <thead>\n    <tr style=\"text-align: right;\">\n      <th></th>\n      <th>Kurtosis</th>\n      <th>Skewness</th>\n      <th>Std</th>\n      <th>Range</th>\n      <th>Median</th>\n      <th>Geometric_Mean</th>\n      <th>Mobility</th>\n      <th>Complexity</th>\n      <th>Tag</th>\n    </tr>\n  </thead>\n  <tbody>\n    <tr>\n      <th>0</th>\n      <td>15.0238</td>\n      <td>2.91000</td>\n      <td>274.7740</td>\n      <td>1789</td>\n      <td>228.0</td>\n      <td>160.4439</td>\n      <td>0.147740</td>\n      <td>0.8579</td>\n      <td>0</td>\n    </tr>\n    <tr>\n      <th>1</th>\n      <td>2.8010</td>\n      <td>0.92232</td>\n      <td>235.7319</td>\n      <td>917</td>\n      <td>179.0</td>\n      <td>145.3054</td>\n      <td>0.120090</td>\n      <td>1.2987</td>\n      <td>0</td>\n    </tr>\n    <tr>\n      <th>2</th>\n      <td>3.9885</td>\n      <td>0.88732</td>\n      <td>174.5089</td>\n      <td>817</td>\n      <td>260.0</td>\n      <td>182.6219</td>\n      <td>0.200340</td>\n      <td>1.5965</td>\n      <td>0</td>\n    </tr>\n    <tr>\n      <th>3</th>\n      <td>5.4531</td>\n      <td>1.83640</td>\n      <td>343.9752</td>\n      <td>1336</td>\n      <td>69.5</td>\n      <td>120.5608</td>\n      <td>0.083738</td>\n      <td>1.2973</td>\n      <td>0</td>\n    </tr>\n    <tr>\n      <th>4</th>\n      <td>15.8010</td>\n      <td>3.38050</td>\n      <td>443.4495</td>\n      <td>2785</td>\n      <td>118.0</td>\n      <td>113.9388</td>\n      <td>0.231590</td>\n      <td>1.2115</td>\n      <td>0</td>\n    </tr>\n  </tbody>\n</table>\n</div>"
     },
     "execution_count": 6,
     "metadata": {},
     "output_type": "execute_result"
    }
   ],
   "source": [
    "train.head()"
   ],
   "metadata": {
    "collapsed": false,
    "pycharm": {
     "name": "#%%\n"
    }
   }
  },
  {
   "cell_type": "code",
   "execution_count": 7,
   "outputs": [
    {
     "name": "stdout",
     "output_type": "stream",
     "text": [
      "<class 'pandas.core.frame.DataFrame'>\n",
      "RangeIndex: 55999 entries, 0 to 55998\n",
      "Data columns (total 9 columns):\n",
      " #   Column           Non-Null Count  Dtype  \n",
      "---  ------           --------------  -----  \n",
      " 0   Kurtosis         55999 non-null  float64\n",
      " 1    Skewness        55999 non-null  float64\n",
      " 2    Std             55999 non-null  float64\n",
      " 3    Range           55999 non-null  int64  \n",
      " 4    Median          55999 non-null  float64\n",
      " 5    Geometric_Mean  55999 non-null  float64\n",
      " 6    Mobility        55999 non-null  float64\n",
      " 7    Complexity      55999 non-null  float64\n",
      " 8    Tag             55999 non-null  int64  \n",
      "dtypes: float64(7), int64(2)\n",
      "memory usage: 3.8 MB\n"
     ]
    }
   ],
   "source": [
    "train.info()"
   ],
   "metadata": {
    "collapsed": false,
    "pycharm": {
     "name": "#%%\n"
    }
   }
  },
  {
   "cell_type": "code",
   "execution_count": 9,
   "outputs": [
    {
     "data": {
      "text/plain": "   Kurtosis   Skewness        Std   Range   Median   Geometric_Mean  \\\n0    2.6629    0.89102   163.6614     630    201.5         208.3995   \n1    2.6006    0.91121   290.5423     963    142.0          88.5387   \n2    2.8175    0.99971   320.6575    1187     10.5          37.5651   \n3   14.7654    3.40910   576.6068    3474     50.0          79.9371   \n4   50.4213    6.72800  1354.7782   11733     14.5          17.0537   \n\n    Mobility   Complexity   Tag  \n0   0.153760      1.59810     0  \n1   0.078463      1.52520     0  \n2   0.149740      1.26250     0  \n3   0.256130      1.42100     0  \n4   0.356650      0.70411     0  ",
      "text/html": "<div>\n<style scoped>\n    .dataframe tbody tr th:only-of-type {\n        vertical-align: middle;\n    }\n\n    .dataframe tbody tr th {\n        vertical-align: top;\n    }\n\n    .dataframe thead th {\n        text-align: right;\n    }\n</style>\n<table border=\"1\" class=\"dataframe\">\n  <thead>\n    <tr style=\"text-align: right;\">\n      <th></th>\n      <th>Kurtosis</th>\n      <th>Skewness</th>\n      <th>Std</th>\n      <th>Range</th>\n      <th>Median</th>\n      <th>Geometric_Mean</th>\n      <th>Mobility</th>\n      <th>Complexity</th>\n      <th>Tag</th>\n    </tr>\n  </thead>\n  <tbody>\n    <tr>\n      <th>0</th>\n      <td>2.6629</td>\n      <td>0.89102</td>\n      <td>163.6614</td>\n      <td>630</td>\n      <td>201.5</td>\n      <td>208.3995</td>\n      <td>0.153760</td>\n      <td>1.59810</td>\n      <td>0</td>\n    </tr>\n    <tr>\n      <th>1</th>\n      <td>2.6006</td>\n      <td>0.91121</td>\n      <td>290.5423</td>\n      <td>963</td>\n      <td>142.0</td>\n      <td>88.5387</td>\n      <td>0.078463</td>\n      <td>1.52520</td>\n      <td>0</td>\n    </tr>\n    <tr>\n      <th>2</th>\n      <td>2.8175</td>\n      <td>0.99971</td>\n      <td>320.6575</td>\n      <td>1187</td>\n      <td>10.5</td>\n      <td>37.5651</td>\n      <td>0.149740</td>\n      <td>1.26250</td>\n      <td>0</td>\n    </tr>\n    <tr>\n      <th>3</th>\n      <td>14.7654</td>\n      <td>3.40910</td>\n      <td>576.6068</td>\n      <td>3474</td>\n      <td>50.0</td>\n      <td>79.9371</td>\n      <td>0.256130</td>\n      <td>1.42100</td>\n      <td>0</td>\n    </tr>\n    <tr>\n      <th>4</th>\n      <td>50.4213</td>\n      <td>6.72800</td>\n      <td>1354.7782</td>\n      <td>11733</td>\n      <td>14.5</td>\n      <td>17.0537</td>\n      <td>0.356650</td>\n      <td>0.70411</td>\n      <td>0</td>\n    </tr>\n  </tbody>\n</table>\n</div>"
     },
     "execution_count": 9,
     "metadata": {},
     "output_type": "execute_result"
    }
   ],
   "source": [
    "test.head()"
   ],
   "metadata": {
    "collapsed": false,
    "pycharm": {
     "name": "#%%\n"
    }
   }
  },
  {
   "cell_type": "code",
   "execution_count": 16,
   "outputs": [],
   "source": [
    "train.rename(columns={i: i.strip(' ') for i in train.columns}, inplace=True)"
   ],
   "metadata": {
    "collapsed": false,
    "pycharm": {
     "name": "#%%\n"
    }
   }
  },
  {
   "cell_type": "code",
   "execution_count": 17,
   "outputs": [
    {
     "data": {
      "text/plain": "Index(['Kurtosis', 'Skewness', 'Std', 'Range', 'Median', 'Geometric_Mean',\n       'Mobility', 'Complexity', 'Tag'],\n      dtype='object')"
     },
     "execution_count": 17,
     "metadata": {},
     "output_type": "execute_result"
    }
   ],
   "source": [
    "train.columns"
   ],
   "metadata": {
    "collapsed": false,
    "pycharm": {
     "name": "#%%\n"
    }
   }
  },
  {
   "cell_type": "code",
   "execution_count": 18,
   "outputs": [],
   "source": [
    "test.rename(columns={i: i.strip(' ') for i in test.columns}, inplace=True)"
   ],
   "metadata": {
    "collapsed": false,
    "pycharm": {
     "name": "#%%\n"
    }
   }
  },
  {
   "cell_type": "code",
   "execution_count": 19,
   "outputs": [],
   "source": [
    "x_train, y_train = train.drop(['Tag'], axis=1), train['Tag']\n",
    "x_test, y_test = test.drop(['Tag'], axis=1), test['Tag']"
   ],
   "metadata": {
    "collapsed": false,
    "pycharm": {
     "name": "#%%\n"
    }
   }
  },
  {
   "cell_type": "code",
   "execution_count": 20,
   "outputs": [],
   "source": [
    "scaling = preprocessing.MinMaxScaler(feature_range=(0, 1))\n",
    "x_train, x_test = scaling.fit_transform(x_train), scaling.fit_transform(x_test) #scale the features in the interval [0:1]"
   ],
   "metadata": {
    "collapsed": false,
    "pycharm": {
     "name": "#%%\n"
    }
   }
  },
  {
   "cell_type": "code",
   "execution_count": 3,
   "outputs": [],
   "source": [],
   "metadata": {
    "collapsed": false,
    "pycharm": {
     "name": "#%%\n"
    }
   }
  },
  {
   "cell_type": "code",
   "execution_count": 4,
   "outputs": [],
   "source": [
    "import matplotlib.pyplot as plt\n",
    "import cv2\n",
    "from numpy import std, ptp, median\n",
    "from scipy.stats import skew, kurtosis, mstats\n",
    "import eeglib\n",
    "import joblib\n",
    "from sklearn import preprocessing\n",
    "import pandas as pd\n",
    "import os"
   ],
   "metadata": {
    "collapsed": false,
    "pycharm": {
     "name": "#%%\n"
    }
   }
  },
  {
   "cell_type": "code",
   "execution_count": 5,
   "outputs": [],
   "source": [
    "\n",
    "svm_classifier = joblib.load('trained/svm-classifier.joblib')\n",
    "knn_classifier = joblib.load('trained/knn-classifier.joblib')\n",
    "rf_classifier = joblib.load('trained/rf-classifier.joblib')\n",
    "mlp_classifier = joblib.load('trained/mlp-classifier.joblib')\n",
    "nb_classifier = joblib.load('trained/nb-classifier.joblib')"
   ],
   "metadata": {
    "collapsed": false,
    "pycharm": {
     "name": "#%%\n"
    }
   }
  },
  {
   "cell_type": "code",
   "execution_count": 20,
   "outputs": [
    {
     "name": "stdout",
     "output_type": "stream",
     "text": [
      "   Kurtosis   Skewness          Std    Range   Median   Geometric_Mean  \\\n",
      "0   7.47907    2.32575  1493.443619  10098.0    409.0      1306.575779   \n",
      "\n",
      "    Mobility   Complexity  \n",
      "0   0.707152      1.27835  \n",
      "        Kurtosis   Skewness          Std    Range   Median   Geometric_Mean  \\\n",
      "13995    3.49710    1.32400   274.312100    981.0    166.0       138.261700   \n",
      "13996  131.43960   10.62380   614.771000   8413.0    163.0       165.482300   \n",
      "13997    9.00040    2.33100   313.368500   1823.0    183.0       126.337800   \n",
      "13998    5.38110    1.74460   357.838400   1644.0     81.5       104.755500   \n",
      "13999    7.47907    2.32575  1493.443619  10098.0    409.0      1306.575779   \n",
      "\n",
      "        Mobility   Complexity  \n",
      "13995   0.930980      1.76780  \n",
      "13996   0.559480      1.17510  \n",
      "13997   0.912830      1.73960  \n",
      "13998   0.923240      1.75000  \n",
      "13999   0.707152      1.27835  \n",
      "[0.02461431 0.22065844 0.40637717 0.17180484 1.         0.83303977\n",
      " 0.48252674 0.62590787]\n"
     ]
    },
    {
     "name": "stderr",
     "output_type": "stream",
     "text": [
      "/tmp/ipykernel_12060/2009352182.py:33: FutureWarning: The frame.append method is deprecated and will be removed from pandas in a future version. Use pandas.concat instead.\n",
      "  x_test = x_test.append(df, ignore_index=True)\n"
     ]
    },
    {
     "data": {
      "text/plain": "array([0])"
     },
     "execution_count": 20,
     "metadata": {},
     "output_type": "execute_result"
    },
    {
     "data": {
      "text/plain": "<Figure size 432x288 with 1 Axes>",
      "image/png": "[encoded data removed]"
     },
     "metadata": {
      "needs_background": "light"
     },
     "output_type": "display_data"
    }
   ],
   "source": [
    "import numpy as np\n",
    "\n",
    "def geo_mean(x):\n",
    "    x_new = [i for i in x if i != 0]\n",
    "    a = np.log(x_new)\n",
    "    return np.exp(a.mean())\n",
    "\n",
    "def stego_or_clean(img_path, classifier):\n",
    "    '''\n",
    "        This function returns the type of the image: either clean or stego, using the chosen classifier\n",
    "        IMPORTANT:\n",
    "            - There's a chance of misclassification in case of non-monochromatic/high-resolution images,\n",
    "            - The model detects only LSB Steganography\n",
    "        This limitation is due to the training dataset, which does not provide a wide range of images.\n",
    "    '''\n",
    "    im = cv2.imread(img_path)\n",
    "    vals = im.mean(axis=2).flatten()\n",
    "    # plot histogram with 255 bins\n",
    "    b, bins, patches = plt.hist(vals, 255)\n",
    "    data = {'Kurtosis' : [kurtosis(b)],\n",
    "        ' Skewness' : [skew(b)],\n",
    "        ' Std' : [std(b)],\n",
    "        ' Range' : [ptp(b)],\n",
    "        ' Median': [median(b)],\n",
    "        ' Geometric_Mean': [geo_mean(b)],\n",
    "        ' Mobility': [eeglib.features.hjorthMobility(b)],\n",
    "        ' Complexity': [eeglib.features.hjorthComplexity(b)]\n",
    "       }\n",
    "    df = pd.DataFrame(data)\n",
    "    print(df.tail())\n",
    "    testing_data = pd.read_csv('train_test_datasets/features_test_70000.csv')\n",
    "    x_test, y_test = testing_data.drop([' Tag'], axis=1), testing_data[' Tag']\n",
    "    x_test = x_test.append(df, ignore_index=True)\n",
    "    print(x_test.tail())\n",
    "    scaler = preprocessing.MinMaxScaler(feature_range=(0, 1))\n",
    "    x_test = scaler.fit_transform(x_test)\n",
    "    print(x_test[13999])\n",
    "    return classifier.predict([x_test[13999]])\n",
    "\n",
    "#choose an image to apply the steganalysis using the chosen classifier\n",
    "stego_or_clean('image.jpg', rf_classifier)"
   ],
   "metadata": {
    "collapsed": false,
    "pycharm": {
     "name": "#%%\n"
    }
   }
  },
  {
   "cell_type": "code",
   "execution_count": 30,
   "outputs": [
    {
     "data": {
      "text/plain": "True"
     },
     "execution_count": 30,
     "metadata": {},
     "output_type": "execute_result"
    }
   ],
   "source": [
    "from pystegano import pystegano\n",
    "\n",
    "cover_image = cv2.imread(\"image.jpg\", cv2.IMREAD_UNCHANGED)\n",
    "secret_message = 'Hello! ffgd fgfgfdddddddddddddddddddddddddddddddddf'\n",
    "encoded_image = pystegano.lsb.encode(cover_image, secret_message)\n",
    "cv2.imwrite(\"LSB1.jpg\", encoded_image)"
   ],
   "metadata": {
    "collapsed": false,
    "pycharm": {
     "name": "#%%\n"
    }
   }
  },
  {
   "cell_type": "code",
   "execution_count": 31,
   "outputs": [
    {
     "name": "stdout",
     "output_type": "stream",
     "text": [
      "   Kurtosis   Skewness         Std   Range   Median   Geometric_Mean  \\\n",
      "0  0.875113   1.055405  775.148431  3606.0    844.0       669.802017   \n",
      "\n",
      "    Mobility   Complexity  \n",
      "0   0.251943     2.752333  \n",
      "         Kurtosis   Skewness         Std   Range   Median   Geometric_Mean  \\\n",
      "13995    3.497100   1.324000  274.312100   981.0    166.0       138.261700   \n",
      "13996  131.439600  10.623800  614.771000  8413.0    163.0       165.482300   \n",
      "13997    9.000400   2.331000  313.368500  1823.0    183.0       126.337800   \n",
      "13998    5.381100   1.744600  357.838400  1644.0     81.5       104.755500   \n",
      "13999    0.875113   1.055405  775.148431  3606.0    844.0       669.802017   \n",
      "\n",
      "        Mobility   Complexity  \n",
      "13995   0.930980     1.767800  \n",
      "13996   0.559480     1.175100  \n",
      "13997   0.912830     1.739600  \n",
      "13998   0.923240     1.750000  \n",
      "13999   0.251943     2.752333  \n",
      "[0.         0.1476975  0.20126768 0.05704437 1.         0.42582215\n",
      " 0.14507308 1.        ]\n"
     ]
    },
    {
     "name": "stderr",
     "output_type": "stream",
     "text": [
      "/tmp/ipykernel_12060/2009352182.py:33: FutureWarning: The frame.append method is deprecated and will be removed from pandas in a future version. Use pandas.concat instead.\n",
      "  x_test = x_test.append(df, ignore_index=True)\n"
     ]
    },
    {
     "data": {
      "text/plain": "array([1])"
     },
     "execution_count": 31,
     "metadata": {},
     "output_type": "execute_result"
    },
    {
     "data": {
      "text/plain": "<Figure size 432x288 with 1 Axes>",
      "image/png": "[encoded data removed]"
     },
     "metadata": {
      "needs_background": "light"
     },
     "output_type": "display_data"
    }
   ],
   "source": [
    "stego_or_clean('LSB1.jpg', rf_classifier)"
   ],
   "metadata": {
    "collapsed": false,
    "pycharm": {
     "name": "#%%\n"
    }
   }
  },
  {
   "cell_type": "code",
   "execution_count": 24,
   "outputs": [
    {
     "name": "stdout",
     "output_type": "stream",
     "text": [
      "     Kurtosis   Skewness          Std     Range   Median   Geometric_Mean  \\\n",
      "0  244.019245  15.601617  10755.56138  172011.0    867.0       531.226649   \n",
      "\n",
      "    Mobility   Complexity  \n",
      "0   1.025256     0.610381  \n",
      "         Kurtosis   Skewness          Std     Range   Median   Geometric_Mean  \\\n",
      "13995    3.497100   1.324000    274.31210     981.0    166.0       138.261700   \n",
      "13996  131.439600  10.623800    614.77100    8413.0    163.0       165.482300   \n",
      "13997    9.000400   2.331000    313.36850    1823.0    183.0       126.337800   \n",
      "13998    5.381100   1.744600    357.83840    1644.0     81.5       104.755500   \n",
      "13999  244.019245  15.601617  10755.56138  172011.0    867.0       531.226649   \n",
      "\n",
      "        Mobility   Complexity  \n",
      "13995   0.930980     1.767800  \n",
      "13996   0.559480     1.175100  \n",
      "13997   0.912830     1.739600  \n",
      "13998   0.923240     1.750000  \n",
      "13999   1.025256     0.610381  \n",
      "[0.96138372 0.98314411 1.         1.         1.         0.33720303\n",
      " 0.71834186 0.25819082]\n"
     ]
    },
    {
     "name": "stderr",
     "output_type": "stream",
     "text": [
      "/tmp/ipykernel_12060/2009352182.py:33: FutureWarning: The frame.append method is deprecated and will be removed from pandas in a future version. Use pandas.concat instead.\n",
      "  x_test = x_test.append(df, ignore_index=True)\n"
     ]
    },
    {
     "data": {
      "text/plain": "array([0])"
     },
     "execution_count": 24,
     "metadata": {},
     "output_type": "execute_result"
    },
    {
     "data": {
      "text/plain": "<Figure size 432x288 with 1 Axes>",
      "image/png": "[encoded data removed]"
     },
     "metadata": {
      "needs_background": "light"
     },
     "output_type": "display_data"
    }
   ],
   "source": [
    "stego_or_clean('test_imgs/8.jpg', rf_classifier)"
   ],
   "metadata": {
    "collapsed": false,
    "pycharm": {
     "name": "#%%\n"
    }
   }
  },
  {
   "cell_type": "code",
   "execution_count": 29,
   "outputs": [
    {
     "name": "stdout",
     "output_type": "stream",
     "text": [
      "     Kurtosis   Skewness           Std     Range   Median   Geometric_Mean  \\\n",
      "0  243.936918  15.598046  10744.597049  171824.0    864.0        536.15172   \n",
      "\n",
      "    Mobility   Complexity  \n",
      "0   1.024386     0.610284  \n",
      "         Kurtosis   Skewness           Std     Range   Median  \\\n",
      "13995    3.497100   1.324000    274.312100     981.0    166.0   \n",
      "13996  131.439600  10.623800    614.771000    8413.0    163.0   \n",
      "13997    9.000400   2.331000    313.368500    1823.0    183.0   \n",
      "13998    5.381100   1.744600    357.838400    1644.0     81.5   \n",
      "13999  243.936918  15.598046  10744.597049  171824.0    864.0   \n",
      "\n",
      "        Geometric_Mean   Mobility   Complexity  \n",
      "13995        138.26170   0.930980     1.767800  \n",
      "13996        165.48230   0.559480     1.175100  \n",
      "13997        126.33780   0.912830     1.739600  \n",
      "13998        104.75550   0.923240     1.750000  \n",
      "13999        536.15172   1.024386     0.610284  \n",
      "[0.96105768 0.98293901 1.         1.         1.         0.34035262\n",
      " 0.71769697 0.25813711]\n"
     ]
    },
    {
     "name": "stderr",
     "output_type": "stream",
     "text": [
      "/tmp/ipykernel_12060/2009352182.py:33: FutureWarning: The frame.append method is deprecated and will be removed from pandas in a future version. Use pandas.concat instead.\n",
      "  x_test = x_test.append(df, ignore_index=True)\n"
     ]
    },
    {
     "data": {
      "text/plain": "array([0])"
     },
     "execution_count": 29,
     "metadata": {},
     "output_type": "execute_result"
    },
    {
     "data": {
      "text/plain": "<Figure size 432x288 with 1 Axes>",
      "image/png": "[encoded data removed]"
     },
     "metadata": {
      "needs_background": "light"
     },
     "output_type": "display_data"
    }
   ],
   "source": [],
   "metadata": {
    "collapsed": false,
    "pycharm": {
     "name": "#%%\n"
    }
   }
  },
  {
   "cell_type": "code",
   "execution_count": null,
   "outputs": [],
   "source": [],
   "metadata": {
    "collapsed": false,
    "pycharm": {
     "name": "#%%\n"
    }
   }
  }
 ],
 "metadata": {
  "kernelspec": {
   "display_name": "Python 3",
   "language": "python",
   "name": "python3"
  },
  "language_info": {
   "codemirror_mode": {
    "name": "ipython",
    "version": 2
   },
   "file_extension": ".py",
   "mimetype": "text/x-python",
   "name": "python",
   "nbconvert_exporter": "python",
   "pygments_lexer": "ipython2",
   "version": "2.7.6"
  }
 },
 "nbformat": 4,
 "nbformat_minor": 0
}